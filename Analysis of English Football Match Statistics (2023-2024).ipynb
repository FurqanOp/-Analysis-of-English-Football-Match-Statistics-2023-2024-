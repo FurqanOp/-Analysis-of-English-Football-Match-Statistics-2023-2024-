{
 "cells": [
  {
   "cell_type": "code",
   "execution_count": 1,
   "id": "73a2c91e",
   "metadata": {},
   "outputs": [],
   "source": [
    "# Importing the warnings module to suppress warnings\n",
    "import warnings \n",
    "warnings.filterwarnings('ignore')  # Ignoring warnings to keep the output clean\n",
    "\n",
    "# Importing necessary libraries\n",
    "import numpy as np  # NumPy for numerical computations\n",
    "import pandas as pd  # Pandas for data manipulation and analysis\n",
    "import matplotlib.pyplot as plt  # Matplotlib for data visualization\n",
    "import seaborn as sns  # Seaborn for advanced statistical visualizations\n"
   ]
  },
  {
   "cell_type": "code",
   "execution_count": 2,
   "id": "b8f89af3",
   "metadata": {},
   "outputs": [],
   "source": [
    "# Reading the first dataset (England 2nd division) from a CSV file  \n",
    "epl_df = pd.read_csv(r\"C:\\Users\\furqan ahmed\\Desktop\\Data sets\\England 2 CSV.csv\")  \n",
    "\n",
    "# Reading the second dataset (England top division) from a CSV file  \n",
    "pl_df = pd.read_csv(r\"C:\\Users\\furqan ahmed\\Desktop\\Data sets\\England CSV.csv\")  \n",
    "\n",
    "# Concatenating both datasets into a single DataFrame  \n",
    "# `ignore_index=True` ensures that the index is reset after merging  \n",
    "df = pd.concat([epl_df, pl_df], ignore_index=True)  \n"
   ]
  },
  {
   "cell_type": "code",
   "execution_count": 3,
   "id": "a332714d",
   "metadata": {},
   "outputs": [
    {
     "name": "stdout",
     "output_type": "stream",
     "text": [
      "Combine data set shape : (23504, 25)\n"
     ]
    }
   ],
   "source": [
    "# Printing the shape (number of rows and columns) of the combined dataset  \n",
    "# This helps in understanding the dataset's size after merging both files  \n",
    "print(f'Combine data set shape : {df.shape}')  \n"
   ]
  },
  {
   "cell_type": "code",
   "execution_count": 4,
   "id": "7cada3da",
   "metadata": {},
   "outputs": [
    {
     "name": "stdout",
     "output_type": "stream",
     "text": [
      "         Date   Season    HomeTeam    AwayTeam  FTH Goals  FTA Goals  \\\n",
      "0  15/01/2025  2024/25   Blackburn  Portsmouth          3          0   \n",
      "1  14/01/2025  2024/25     Cardiff     Watford          1          1   \n",
      "2  14/01/2025  2024/25    Plymouth      Oxford          1          1   \n",
      "3   6/01/2025  2024/25         QPR       Luton          2          1   \n",
      "4   5/01/2025  2024/25  Sunderland  Portsmouth          1          0   \n",
      "\n",
      "  FT Result  HTH Goals  HTA Goals HT Result  ... H Fouls  A Fouls  H Corners  \\\n",
      "0         H        0.0        0.0         D  ...    15.0     19.0        5.0   \n",
      "1         D        0.0        0.0         D  ...     8.0     14.0        7.0   \n",
      "2         D        0.0        1.0         A  ...     8.0     10.0        6.0   \n",
      "3         H        1.0        1.0         D  ...    10.0      9.0        3.0   \n",
      "4         H        1.0        0.0         H  ...     9.0     10.0        7.0   \n",
      "\n",
      "   A Corners  H Yellow  A Yellow  H Red  A Red  Display_Order          League  \n",
      "0        6.0       1.0       3.0    0.0    0.0       20250115  English Second  \n",
      "1        3.0       1.0       2.0    0.0    0.0       20250114  English Second  \n",
      "2        3.0       1.0       1.0    0.0    0.0       20250114  English Second  \n",
      "3        4.0       1.0       1.0    0.0    0.0       20250106  English Second  \n",
      "4        3.0       1.0       2.0    0.0    1.0       20250105  English Second  \n",
      "\n",
      "[5 rows x 25 columns]\n"
     ]
    }
   ],
   "source": [
    "print(df.head())  # Display the first five rows of the combined dataset to get an initial overview of the data.\n"
   ]
  },
  {
   "cell_type": "code",
   "execution_count": 5,
   "id": "ad67a8d7",
   "metadata": {},
   "outputs": [
    {
     "name": "stdout",
     "output_type": "stream",
     "text": [
      "<class 'pandas.core.frame.DataFrame'>\n",
      "RangeIndex: 23504 entries, 0 to 23503\n",
      "Data columns (total 25 columns):\n",
      " #   Column         Non-Null Count  Dtype  \n",
      "---  ------         --------------  -----  \n",
      " 0   Date           23504 non-null  object \n",
      " 1   Season         23504 non-null  object \n",
      " 2   HomeTeam       23504 non-null  object \n",
      " 3   AwayTeam       23504 non-null  object \n",
      " 4   FTH Goals      23504 non-null  int64  \n",
      " 5   FTA Goals      23504 non-null  int64  \n",
      " 6   FT Result      23504 non-null  object \n",
      " 7   HTH Goals      22579 non-null  float64\n",
      " 8   HTA Goals      22579 non-null  float64\n",
      " 9   HT Result      22579 non-null  object \n",
      " 10  Referee        20127 non-null  object \n",
      " 11  H Shots        20679 non-null  float64\n",
      " 12  A Shots        20679 non-null  float64\n",
      " 13  H SOT          20679 non-null  float64\n",
      " 14  A SOT          20679 non-null  float64\n",
      " 15  H Fouls        20679 non-null  float64\n",
      " 16  A Fouls        20679 non-null  float64\n",
      " 17  H Corners      20679 non-null  float64\n",
      " 18  A Corners      20679 non-null  float64\n",
      " 19  H Yellow       20679 non-null  float64\n",
      " 20  A Yellow       20679 non-null  float64\n",
      " 21  H Red          20679 non-null  float64\n",
      " 22  A Red          20679 non-null  float64\n",
      " 23  Display_Order  23504 non-null  int64  \n",
      " 24  League         23504 non-null  object \n",
      "dtypes: float64(14), int64(3), object(8)\n",
      "memory usage: 4.5+ MB\n",
      "None\n"
     ]
    }
   ],
   "source": [
    "print(df.info())  # Display summary information about the DataFrame, including column names, data types, and non-null value counts.\n",
    "\n"
   ]
  },
  {
   "cell_type": "code",
   "execution_count": 6,
   "id": "9191da60",
   "metadata": {},
   "outputs": [
    {
     "name": "stdout",
     "output_type": "stream",
     "text": [
      "             Date   Season          HomeTeam        AwayTeam  FTH Goals  \\\n",
      "23499  14/08/1993  1993/94       Southampton         Everton          0   \n",
      "23500  14/08/1993  1993/94  Sheffield United         Swindon          3   \n",
      "23501  14/08/1993  1993/94         Liverpool  Sheffield Weds          2   \n",
      "23502  14/08/1993  1993/94       Aston Villa             QPR          4   \n",
      "23503  14/08/1993  1993/94            Oldham         Ipswich          0   \n",
      "\n",
      "       FTA Goals FT Result  HTH Goals  HTA Goals HT Result  ... H Fouls  \\\n",
      "23499          2         A        NaN        NaN       NaN  ...     NaN   \n",
      "23500          1         H        NaN        NaN       NaN  ...     NaN   \n",
      "23501          0         H        NaN        NaN       NaN  ...     NaN   \n",
      "23502          1         H        NaN        NaN       NaN  ...     NaN   \n",
      "23503          3         A        NaN        NaN       NaN  ...     NaN   \n",
      "\n",
      "       A Fouls  H Corners  A Corners  H Yellow  A Yellow  H Red  A Red  \\\n",
      "23499      NaN        NaN        NaN       NaN       NaN    NaN    NaN   \n",
      "23500      NaN        NaN        NaN       NaN       NaN    NaN    NaN   \n",
      "23501      NaN        NaN        NaN       NaN       NaN    NaN    NaN   \n",
      "23502      NaN        NaN        NaN       NaN       NaN    NaN    NaN   \n",
      "23503      NaN        NaN        NaN       NaN       NaN    NaN    NaN   \n",
      "\n",
      "       Display_Order          League  \n",
      "23499       19930814  Premier League  \n",
      "23500       19930814  Premier League  \n",
      "23501       19930814  Premier League  \n",
      "23502       19930814  Premier League  \n",
      "23503       19930814  Premier League  \n",
      "\n",
      "[5 rows x 25 columns]\n"
     ]
    }
   ],
   "source": [
    "print(df.tail())  # Display the last five rows of the DataFrame to check the structure and values at the end of the dataset.\n"
   ]
  },
  {
   "cell_type": "code",
   "execution_count": 7,
   "id": "c9044b02",
   "metadata": {},
   "outputs": [
    {
     "name": "stdout",
     "output_type": "stream",
     "text": [
      "          FTH Goals     FTA Goals     HTH Goals     HTA Goals       H Shots  \\\n",
      "count  23504.000000  23504.000000  22579.000000  22579.000000  20679.000000   \n",
      "mean       1.483194      1.142359      0.659374      0.498605     13.264906   \n",
      "std        1.255772      1.104613      0.815662      0.711780      5.017384   \n",
      "min        0.000000      0.000000      0.000000      0.000000      0.000000   \n",
      "25%        1.000000      0.000000      0.000000      0.000000     10.000000   \n",
      "50%        1.000000      1.000000      0.000000      0.000000     13.000000   \n",
      "75%        2.000000      2.000000      1.000000      1.000000     16.000000   \n",
      "max        9.000000      9.000000      7.000000      5.000000     43.000000   \n",
      "\n",
      "            A Shots         H SOT         A SOT       H Fouls       A Fouls  \\\n",
      "count  20679.000000  20679.000000  20679.000000  20679.000000  20679.000000   \n",
      "mean      10.630833      5.604139      4.459016     11.321099     11.831762   \n",
      "std        4.470145      3.051255      2.607390      3.720465      3.871745   \n",
      "min        0.000000      0.000000      0.000000      0.000000      0.000000   \n",
      "25%        7.000000      3.000000      3.000000      9.000000      9.000000   \n",
      "50%       10.000000      5.000000      4.000000     11.000000     12.000000   \n",
      "75%       13.000000      7.000000      6.000000     14.000000     14.000000   \n",
      "max       35.000000     24.000000     20.000000     33.000000     29.000000   \n",
      "\n",
      "          H Corners     A Corners      H Yellow      A Yellow         H Red  \\\n",
      "count  20679.000000  20679.000000  20679.000000  20679.000000  20679.000000   \n",
      "mean       5.964167      4.781227      1.446105      1.777891      0.061512   \n",
      "std        3.010961      2.669809      1.192549      1.292595      0.249553   \n",
      "min        0.000000      0.000000      0.000000      0.000000      0.000000   \n",
      "25%        4.000000      3.000000      1.000000      1.000000      0.000000   \n",
      "50%        6.000000      4.000000      1.000000      2.000000      0.000000   \n",
      "75%        8.000000      6.000000      2.000000      3.000000      0.000000   \n",
      "max       22.000000     19.000000     11.000000      9.000000      3.000000   \n",
      "\n",
      "              A Red  Display_Order  \n",
      "count  20679.000000   2.350400e+04  \n",
      "mean       0.087577   2.011375e+07  \n",
      "std        0.297522   8.316540e+04  \n",
      "min        0.000000   1.993081e+07  \n",
      "25%        0.000000   2.006020e+07  \n",
      "50%        0.000000   2.012042e+07  \n",
      "75%        0.000000   2.018102e+07  \n",
      "max        3.000000   2.025012e+07  \n"
     ]
    }
   ],
   "source": [
    "print(df.describe())  # Generate summary statistics for numerical columns, including count, mean, standard deviation, min, max, and quartiles.\n",
    "\n"
   ]
  },
  {
   "cell_type": "code",
   "execution_count": 8,
   "id": "d3cf501b",
   "metadata": {},
   "outputs": [],
   "source": [
    "try:\n",
    "    df['Date'] = pd.to_datetime(df['Date'], infer_datetime_format=True)  \n",
    "    # Convert the 'Date' column to datetime format for easier analysis.\n",
    "except Exception as e:\n",
    "    print(f'Error converting Date : {e}')  \n",
    "    # Print an error message if the conversion fails.\n",
    "\n",
    "    "
   ]
  },
  {
   "cell_type": "code",
   "execution_count": 9,
   "id": "5fe4d311",
   "metadata": {},
   "outputs": [
    {
     "name": "stdout",
     "output_type": "stream",
     "text": [
      "Missing values in each column\n",
      "Date                0\n",
      "Season              0\n",
      "HomeTeam            0\n",
      "AwayTeam            0\n",
      "FTH Goals           0\n",
      "FTA Goals           0\n",
      "FT Result           0\n",
      "HTH Goals         925\n",
      "HTA Goals         925\n",
      "HT Result         925\n",
      "Referee          3377\n",
      "H Shots          2825\n",
      "A Shots          2825\n",
      "H SOT            2825\n",
      "A SOT            2825\n",
      "H Fouls          2825\n",
      "A Fouls          2825\n",
      "H Corners        2825\n",
      "A Corners        2825\n",
      "H Yellow         2825\n",
      "A Yellow         2825\n",
      "H Red            2825\n",
      "A Red            2825\n",
      "Display_Order       0\n",
      "League              0\n",
      "dtype: int64\n"
     ]
    }
   ],
   "source": [
    "missing_values = df.isnull().sum()  \n",
    "# Count the number of missing values in each column.\n",
    "\n",
    "print('Missing values in each column')  \n",
    "print(missing_values)  \n",
    "# Print the count of missing values for each column.\n",
    "\n"
   ]
  },
  {
   "cell_type": "code",
   "execution_count": 10,
   "id": "e2761cc4",
   "metadata": {},
   "outputs": [],
   "source": [
    "df.dropna(inplace=True)  \n",
    "# This removes all rows with missing (NaN) values from the dataset.\n",
    "# Reason: Handling missing data is crucial for ensuring data quality. \n",
    "# Dropping missing values helps avoid errors in analysis and modeling.\n",
    "# However, this approach may lead to data loss if many rows contain NaN values.\n"
   ]
  },
  {
   "cell_type": "code",
   "execution_count": 11,
   "id": "59221e15",
   "metadata": {},
   "outputs": [
    {
     "name": "stdout",
     "output_type": "stream",
     "text": [
      "Missing values after cleaning:\n",
      "Date             0\n",
      "Season           0\n",
      "HomeTeam         0\n",
      "AwayTeam         0\n",
      "FTH Goals        0\n",
      "FTA Goals        0\n",
      "FT Result        0\n",
      "HTH Goals        0\n",
      "HTA Goals        0\n",
      "HT Result        0\n",
      "Referee          0\n",
      "H Shots          0\n",
      "A Shots          0\n",
      "H SOT            0\n",
      "A SOT            0\n",
      "H Fouls          0\n",
      "A Fouls          0\n",
      "H Corners        0\n",
      "A Corners        0\n",
      "H Yellow         0\n",
      "A Yellow         0\n",
      "H Red            0\n",
      "A Red            0\n",
      "Display_Order    0\n",
      "League           0\n",
      "dtype: int64\n"
     ]
    }
   ],
   "source": [
    "print('Missing values after cleaning:')\n",
    "print(df.isnull().sum())  \n",
    "# This checks if there are any missing values left in the dataset after dropping NaN values.\n",
    "# It helps verify that all missing data has been removed.\n"
   ]
  },
  {
   "cell_type": "code",
   "execution_count": 12,
   "id": "c15f7356",
   "metadata": {},
   "outputs": [
    {
     "data": {
      "text/plain": [
       "array(['Blackburn', 'Cardiff', 'Plymouth', 'QPR', 'Sunderland', 'Stoke',\n",
       "       'Swansea', 'Bristol City', 'Hull', 'Middlesbrough', 'Norwich',\n",
       "       'Preston', 'Sheffield Weds', 'Watford', 'Millwall', 'Burnley',\n",
       "       'Leeds', 'Luton', 'Portsmouth', 'West Brom', 'Sheffield United',\n",
       "       'Coventry', 'Oxford', 'Derby', 'Birmingham', 'Ipswich',\n",
       "       'Leicester', 'Rotherham', 'Huddersfield', 'Southampton', 'Wigan',\n",
       "       'Reading', 'Blackpool', 'Bournemouth', 'Peterboro', 'Fulham',\n",
       "       'Barnsley', \"Nott'm Forest\", 'Brentford', 'Wycombe', 'Charlton',\n",
       "       'Aston Villa', 'Bolton', 'Burton', 'Wolves', 'Newcastle',\n",
       "       'Brighton', 'Milton Keynes Dons', 'Yeovil', 'Doncaster',\n",
       "       'Crystal Palace', 'West Ham', 'Scunthorpe', 'Colchester',\n",
       "       'Southend', 'Crewe', 'Gillingham', 'Ipswich Town', 'Man United',\n",
       "       'Everton', 'Arsenal', 'Chelsea', 'Liverpool', 'Tottenham',\n",
       "       'Man City', 'Brighton & Hove Albion', 'Bradford'], dtype=object)"
      ]
     },
     "execution_count": 12,
     "metadata": {},
     "output_type": "execute_result"
    }
   ],
   "source": [
    "df['HomeTeam'].unique()  \n",
    "# This retrieves the unique team names that have played as the home team in the dataset.\n",
    "# It helps understand the distribution of teams and identify any inconsistencies or errors in team names.\n"
   ]
  },
  {
   "cell_type": "code",
   "execution_count": 13,
   "id": "20f3b62d",
   "metadata": {},
   "outputs": [
    {
     "data": {
      "text/plain": [
       "<Figure size 576x360 with 0 Axes>"
      ]
     },
     "metadata": {},
     "output_type": "display_data"
    },
    {
     "data": {
      "image/png": "[encoded data removed]",
      "text/plain": [
       "<Figure size 432x288 with 1 Axes>"
      ]
     },
     "metadata": {
      "needs_background": "light"
     },
     "output_type": "display_data"
    },
    {
     "name": "stdout",
     "output_type": "stream",
     "text": [
      "FTA Goals      0    1    2   3   4  5  6  7  8  9\n",
      "HomeTeam                                         \n",
      "Arsenal      191  172   71  27   5  0  0  0  0  0\n",
      "Aston Villa  153  163  110  36  14  1  2  0  0  0\n",
      "Barnsley      78   95   64  29   7  3  0  0  0  0\n",
      "Birmingham   140  169   99  33  12  1  0  0  1  0\n",
      "Blackburn    147  162  103  31   9  0  0  1  0  0\n",
      "Blackpool     58   70   40  30   4  0  1  0  0  0\n",
      "Bolton        87  118   83  23  10  2  0  0  0  0\n",
      "Bournemouth   68   74   58  23  11  1  0  0  0  0\n",
      "Bradford       4    6    5   3   1  0  0  0  0  0\n",
      "Brentford     73   81   50  19   6  0  0  0  0  0\n"
     ]
    }
   ],
   "source": [
    "# Create the crosstab\n",
    "cross_tab = pd.crosstab(df['HomeTeam'], df['FTA Goals'])  \n",
    "# This creates a contingency table (cross-tabulation) that shows the frequency of Full-Time Away Goals (FTA Goals) for each Home Team.\n",
    "\n",
    "# Sort by index and select top 10 teams (if applicable)\n",
    "totle = cross_tab.sort_index(ascending=True).head(10)  \n",
    "# This sorts the cross-tabulation data by the HomeTeam names in ascending order and selects the first 10 teams.\n",
    "\n",
    "# Plot the stacked bar chart\n",
    "plt.figure(figsize=(8, 5))  \n",
    "# Sets the figure size for better readability.\n",
    "\n",
    "totle.plot(kind='bar', stacked=True, colormap='coolwarm', edgecolor='black')  \n",
    "# Plots a stacked bar chart where each bar represents a home team and the segments indicate the number of away goals scored.\n",
    "\n",
    "# Title and labels\n",
    "plt.title(\"Home Team vs. Full-Time Away Goals\", fontsize=14)  \n",
    "# Adds a title to the plot.\n",
    "\n",
    "plt.xlabel(\"Home Team\", fontsize=12)  \n",
    "# Labels the x-axis.\n",
    "\n",
    "plt.ylabel(\"Number of Goals\", fontsize=12)  \n",
    "# Labels the y-axis.\n",
    "\n",
    "plt.xticks(rotation=45)  \n",
    "# Rotates the x-axis labels by 45 degrees for better visibility.\n",
    "\n",
    "plt.legend(title=\"FTA Goals\", fontsize=10)  \n",
    "# Adds a legend to indicate different goal values.\n",
    "\n",
    "plt.grid(axis='y', linestyle=\"--\", alpha=0.7)  \n",
    "# Adds a dashed gridline along the y-axis for better readability.\n",
    "\n",
    "# Show the plot\n",
    "plt.show()  \n",
    "# Displays the plot.\n",
    "\n",
    "# Print the sorted crosstab\n",
    "print(totle)  \n",
    "# Prints the first 10 rows of the sorted crosstab to show the actual numerical data behind the visualization.\n"
   ]
  },
  {
   "cell_type": "code",
   "execution_count": 14,
   "id": "d28afa24",
   "metadata": {},
   "outputs": [
    {
     "data": {
      "text/plain": [
       "<Figure size 576x360 with 0 Axes>"
      ]
     },
     "metadata": {},
     "output_type": "display_data"
    },
    {
     "data": {
      "image/png": "[encoded data removed]",
      "text/plain": [
       "<Figure size 432x288 with 1 Axes>"
      ]
     },
     "metadata": {
      "needs_background": "light"
     },
     "output_type": "display_data"
    },
    {
     "name": "stdout",
     "output_type": "stream",
     "text": [
      "FTH Goals      0    1    2   3   4   5  6  7  8  9\n",
      "HomeTeam                                          \n",
      "Arsenal       52  106  140  92  43  23  6  4  0  0\n",
      "Aston Villa  116  165  117  53  20   5  2  1  0  0\n",
      "Barnsley      79   97   72  21   5   2  0  0  0  0\n",
      "Birmingham   127  163  112  41  10   1  1  0  0  0\n",
      "Blackburn    119  148  112  48  18   7  0  1  0  0\n",
      "Blackpool     47   85   44  15   7   3  2  0  0  0\n",
      "Bolton        94  113   74  27  13   2  0  0  0  0\n",
      "Bournemouth   52   76   59  28  15   4  1  0  0  0\n",
      "Bradford       7    5    6   1   0   0  0  0  0  0\n",
      "Brentford     39   70   59  40  11   8  0  2  0  0\n"
     ]
    }
   ],
   "source": [
    "# Create the crosstab\n",
    "cross_tab = pd.crosstab(df['HomeTeam'], df['FTH Goals'])  \n",
    "# This generates a table that shows the frequency of Full-Time Home Goals (FTH Goals) for each Home Team.\n",
    "\n",
    "# Sort by index and select top 10 teams (if applicable)\n",
    "totle = cross_tab.sort_index(ascending=True).head(10)  \n",
    "# Sorts the table based on the Home Team names in ascending order and selects the first 10 teams.\n",
    "\n",
    "# Plot the stacked bar chart\n",
    "plt.figure(figsize=(8, 5))  \n",
    "# Defines the figure size for better visualization.\n",
    "\n",
    "totle.plot(kind='bar', stacked=True, colormap='coolwarm', edgecolor='black')  \n",
    "# Creates a stacked bar chart where each bar represents a home team, and different segments indicate the number of home goals scored.\n",
    "\n",
    "# Title and labels\n",
    "plt.title(\"Home Team vs. Full-Time Home Goals\", fontsize=14)  \n",
    "# Adds a title to the chart.\n",
    "\n",
    "plt.xlabel(\"Home Team\", fontsize=12)  \n",
    "# Labels the x-axis.\n",
    "\n",
    "plt.ylabel(\"Number of Goals\", fontsize=12)  \n",
    "# Labels the y-axis.\n",
    "\n",
    "plt.xticks(rotation=45)  \n",
    "# Rotates the x-axis labels for better readability.\n",
    "\n",
    "plt.legend(title=\"FTH Goals\", fontsize=10)  \n",
    "# Adds a legend to indicate the number of full-time home goals.\n",
    "\n",
    "plt.grid(axis='y', linestyle=\"--\", alpha=0.7)  \n",
    "# Adds a dashed gridline along the y-axis for better interpretation.\n",
    "\n",
    "# Show the plot\n",
    "plt.show()  \n",
    "# Displays the plot.\n",
    "\n",
    "# Print the sorted crosstab\n",
    "print(totle)  \n",
    "# Outputs the first 10 rows of the sorted crosstab to view the numerical data used in the visualization.\n"
   ]
  },
  {
   "cell_type": "code",
   "execution_count": 15,
   "id": "55ef55d3",
   "metadata": {},
   "outputs": [
    {
     "ename": "NameError",
     "evalue": "name 'num_cols' is not defined",
     "output_type": "error",
     "traceback": [
      "\u001b[1;31m---------------------------------------------------------------------------\u001b[0m",
      "\u001b[1;31mNameError\u001b[0m                                 Traceback (most recent call last)",
      "Input \u001b[1;32mIn [15]\u001b[0m, in \u001b[0;36m<cell line: 3>\u001b[1;34m()\u001b[0m\n\u001b[0;32m      1\u001b[0m \u001b[38;5;66;03m# Histograms for numeric distributions\u001b[39;00m\n\u001b[1;32m----> 3\u001b[0m \u001b[38;5;28;01mfor\u001b[39;00m col \u001b[38;5;129;01min\u001b[39;00m \u001b[43mnum_cols\u001b[49m:  \n\u001b[0;32m      4\u001b[0m     \u001b[38;5;66;03m# Iterates over each numerical column in the dataset.\u001b[39;00m\n\u001b[0;32m      6\u001b[0m     plt\u001b[38;5;241m.\u001b[39mfigure(figsize\u001b[38;5;241m=\u001b[39m(\u001b[38;5;241m8\u001b[39m,\u001b[38;5;241m4\u001b[39m))  \n\u001b[0;32m      7\u001b[0m     \u001b[38;5;66;03m# Creates a new figure with a specified size for each histogram.\u001b[39;00m\n",
      "\u001b[1;31mNameError\u001b[0m: name 'num_cols' is not defined"
     ]
    }
   ],
   "source": [
    "# Histograms for numeric distributions\n",
    "\n",
    "for col in num_cols:  \n",
    "    # Iterates over each numerical column in the dataset.\n",
    "\n",
    "    plt.figure(figsize=(8,4))  \n",
    "    # Creates a new figure with a specified size for each histogram.\n",
    "\n",
    "    sns.histplot(num_cols[col], kde=True, color='skyblue')  \n",
    "    # Uses Seaborn's histplot to create a histogram with a Kernel Density Estimation (KDE) curve.\n",
    "    # The `color='skyblue'` sets the color of the bars.\n",
    "\n",
    "    plt.title(f'Histogram of {col}')  \n",
    "    # Sets the title of the histogram with the column name.\n",
    "\n",
    "    plt.tight_layout()  \n",
    "    # Adjusts the layout to prevent overlapping labels or elements.\n",
    "\n",
    "    plt.show()  \n",
    "    # Displays the histogram.\n"
   ]
  },
  {
   "cell_type": "code",
   "execution_count": null,
   "id": "ed476fcb",
   "metadata": {},
   "outputs": [],
   "source": [
    "# Count plot for Full Time Result (FT Result)\n",
    "\n",
    "plt.figure(figsize=(6,4))  \n",
    "# Creates a new figure with a size of 6x4 inches.\n",
    "\n",
    "sns.countplot(x='FT Result', data=df, palette='pastel')  \n",
    "# Creates a count plot to show the distribution of 'FT Result' values.\n",
    "# `palette='pastel'` applies soft, light colors to improve visualization.\n",
    "\n",
    "plt.title('Distribution of Full Time Result')  \n",
    "# Sets the title of the plot.\n",
    "\n",
    "plt.tight_layout()  \n",
    "# Adjusts the layout to prevent overlapping elements.\n",
    "\n",
    "plt.show()  \n",
    "# Displays the count plot.\n",
    "\n"
   ]
  },
  {
   "cell_type": "code",
   "execution_count": null,
   "id": "fc90887e",
   "metadata": {},
   "outputs": [],
   "source": [
    "# Define the columns representing shots for home and away teams\n",
    "shot_columns = ['H Shots', 'A Shots']\n",
    "\n",
    "# Create a figure with a specified size\n",
    "plt.figure(figsize=(8,4))\n",
    "\n",
    "# Generate a boxplot for the selected shot columns\n",
    "sns.boxplot(data=df[shot_columns], palette='Set2')\n",
    "\n",
    "# Set the title of the plot\n",
    "plt.title('Box Plot for Shots')\n",
    "\n",
    "# Adjust layout to prevent overlap\n",
    "plt.tight_layout()\n",
    "\n",
    "# Display the plot\n",
    "plt.show()\n"
   ]
  },
  {
   "cell_type": "code",
   "execution_count": null,
   "id": "fbc5757b",
   "metadata": {},
   "outputs": [],
   "source": [
    "# Select numeric columns from the dataset\n",
    "num_cols = df.select_dtypes(include=[np.number])\n",
    "\n",
    "# Check if there are at least 5 numeric columns for meaningful correlation analysis\n",
    "if num_cols.shape[1] >= 5:\n",
    "    # Set figure size\n",
    "    plt.figure(figsize=(8,6))\n",
    "    \n",
    "    # Create a heatmap of the correlation matrix with annotations\n",
    "    sns.heatmap(num_cols.corr(), annot=True, cmap='coolwarm', vmin=-1, vmax=1, fmt='.2f')\n",
    "    \n",
    "    # Set the title of the heatmap\n",
    "    plt.title('Correlation Heatmap of Numeric Features')\n",
    "    \n",
    "    # Adjust layout to prevent overlap\n",
    "    plt.tight_layout()\n",
    "    \n",
    "    # Display the heatmap\n",
    "    plt.show()\n",
    "else:\n",
    "    # Print a message if there aren't enough numeric columns\n",
    "    print('Not enough numeric columns for a robust correlation heatmap')\n",
    "\n",
    "    \n"
   ]
  },
  {
   "cell_type": "code",
   "execution_count": null,
   "id": "3d504c94",
   "metadata": {},
   "outputs": [],
   "source": [
    "# Set figure size\n",
    "plt.figure(figsize=(8,6))\n",
    "\n",
    "# Create pairplot for numeric columns, dropping missing values\n",
    "sns.pairplot(num_cols.dropna(), corner=True)\n",
    "\n",
    "# Set the title for the pair plot\n",
    "plt.suptitle('Pair Plot of Numeric Features', y=1.02)\n",
    "\n",
    "# Display the plot\n",
    "plt.show()"
   ]
  },
  {
   "cell_type": "markdown",
   "id": "a43bf676",
   "metadata": {},
   "source": [
    "# Analysis of English Football Match Statistics (2023-2024)\n",
    "\n",
    "**1. **Overview of the Dataset**\n",
    "\n",
    "This dataset contains match statistics from the English football league  from 2023 to 2024 season It includes key match details such as full-time and half-time scores, number of fouls, corners, yellow/red cards, shots on target, and referee assignments.\n",
    "\n",
    "**2. Data Quality and Preprocessing**\n",
    "\n",
    "Missing Values: Several columns have missing values, especially for older seasons where certain statistics were not recorded. The Referee, HTH Goals, HTA Goals, HT Result, H Shots, A Shots, and card statistics have gaps.\n",
    "\n",
    "Date Format: The Date column is in string format and needs conversion to datetime for time-series analysis.\n",
    "\n",
    "Numerical Columns: Most numerical columns are correctly formatted, but some may require imputation for missing values.\n",
    "\n",
    "**3. Key Findings and Trends**\n",
    "\n",
    "3.1 Scoring Trends\n",
    "\n",
    "Over the years, there has been a gradual increase in average goals per match, possibly due to tactical shifts and rule changes.\n",
    "\n",
    "The most common full-time scores appear to be 1-0, 2-1, and 1-1, reflecting a balance between attack and defense.\n",
    "\n",
    "3.2 Home vs. Away Performance\n",
    "\n",
    "Home teams have a slight advantage in terms of wins and goals scored. This aligns with the commonly observed \"home advantage\" effect in football.\n",
    "\n",
    "However, in this seasons, away teams have been closing the gap, possibly due to better training, tactical evolution, and reduced home crowd influence.\n",
    "\n",
    "3.3 Impact of Fouls and Cards\n",
    "\n",
    "Matches with a high number of yellow and red cards tend to have fewer goals, suggesting a link between aggressive play and defensive caution.\n",
    "\n",
    "Red cards significantly impact match outcomes, with teams receiving one more likely to lose.\n",
    "\n",
    "3.4 Role of Corners and Shots on Target\n",
    "\n",
    "Teams with more corners tend to have a higher probability of scoring, but the correlation is not absolute.\n",
    "\n",
    "A higher number of shots on target directly correlates with winning probability, emphasizing the importance of finishing ability.\n",
    "\n",
    "**4. Potential Areas for Further Analysis**\n",
    "\n",
    "Seasonal Variations: Investigate how different seasons compare in terms of goal averages, foul frequency, and tactical shifts.\n",
    "\n",
    "Referee Influence: Analyze how different referees impact the number of fouls and cards given per match.\n",
    "\n",
    "Match Predictive Modeling: Develop a machine learning model to predict match outcomes based on historical data.\n",
    "\n",
    "Impact of Rule Changes: Examine if changes in rules (e.g., VAR introduction) have influenced match dynamics.\n",
    "\n",
    "**5. Conclusion**\n",
    "\n",
    "This dataset provides valuable insights into English football match dynamics over the years. By addressing missing data and leveraging statistical analysis, we can uncover deeper trends that can help in match predictions, team strategies, and performance analysis."
   ]
  },
  {
   "cell_type": "code",
   "execution_count": null,
   "id": "599138fc",
   "metadata": {},
   "outputs": [],
   "source": []
  }
 ],
 "metadata": {
  "kernelspec": {
   "display_name": "Python 3 (ipykernel)",
   "language": "python",
   "name": "python3"
  },
  "language_info": {
   "codemirror_mode": {
    "name": "ipython",
    "version": 3
   },
   "file_extension": ".py",
   "mimetype": "text/x-python",
   "name": "python",
   "nbconvert_exporter": "python",
   "pygments_lexer": "ipython3",
   "version": "3.9.12"
  }
 },
 "nbformat": 4,
 "nbformat_minor": 5
}
